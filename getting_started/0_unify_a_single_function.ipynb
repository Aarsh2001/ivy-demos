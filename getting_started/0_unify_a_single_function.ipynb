{
 "cells": [
  {
   "cell_type": "markdown",
   "source": [
    "# Tutorial 0: Unifying a Single Function"
   ],
   "metadata": {
    "collapsed": false
   }
  },
  {
   "cell_type": "markdown",
   "source": [
    "In this example, we will unify a function from Kornia, which an awesome computer vision library written in PyTorch.\n",
    "\n",
    "Specifically, we will unify the function `canny`, which performs Canny edge detection. We will then show how this newly unified `canny` function can be used alongside *any* ML framework."
   ],
   "metadata": {
    "collapsed": false
   }
  },
  {
   "cell_type": "markdown",
   "source": [
    "## Unifying"
   ],
   "metadata": {
    "collapsed": false
   }
  },
  {
   "cell_type": "markdown",
   "source": [
    "Firstly, let's import some dependencies"
   ],
   "metadata": {
    "collapsed": false
   }
  },
  {
   "cell_type": "code",
   "execution_count": null,
   "outputs": [],
   "source": [
    "import ivy\n",
    "import cv2\n",
    "import kornia\n",
    "import numpy as np"
   ],
   "metadata": {
    "collapsed": false
   }
  },
  {
   "cell_type": "markdown",
   "source": [
    "Now, let's unify the function!"
   ],
   "metadata": {
    "collapsed": false
   }
  },
  {
   "cell_type": "code",
   "execution_count": null,
   "outputs": [],
   "source": [
    "canny = ivy.unify(kornia.filters.canny)"
   ],
   "metadata": {
    "collapsed": false
   }
  },
  {
   "cell_type": "markdown",
   "source": [
    "And that's it! The `canny` function can now be used with any ML framework. It's as simple as that."
   ],
   "metadata": {
    "collapsed": false
   }
  },
  {
   "cell_type": "markdown",
   "source": [
    "## Testing"
   ],
   "metadata": {
    "collapsed": false
   }
  },
  {
   "cell_type": "markdown",
   "source": [
    "So, let's give it a try!\n",
    "\n",
    "First, let's load an image into `numpy` using `cv2`"
   ],
   "metadata": {
    "collapsed": false
   }
  },
  {
   "cell_type": "code",
   "execution_count": null,
   "outputs": [],
   "source": [
    "img = cv2.imread('image.png')/255"
   ],
   "metadata": {
    "collapsed": false,
    "pycharm": {
     "is_executing": true
    }
   }
  },
  {
   "cell_type": "markdown",
   "source": [
    "Let's now convert into the channel-first format with a unary batch dimension, used by Kornia"
   ],
   "metadata": {
    "collapsed": false
   }
  },
  {
   "cell_type": "code",
   "execution_count": null,
   "outputs": [],
   "source": [
    "img = np.expand_dims(np.transpose(img, (2, 0, 1)), 0)"
   ],
   "metadata": {
    "collapsed": false
   }
  },
  {
   "cell_type": "markdown",
   "source": [
    "Now, let's try out our new unified `canny` function with some other ML frameworks!"
   ],
   "metadata": {
    "collapsed": false
   }
  },
  {
   "cell_type": "code",
   "execution_count": null,
   "outputs": [],
   "source": [
    "# NumPy\n",
    "canny(img)\n",
    "\n",
    "# JAX\n",
    "import jax.numpy as jnp\n",
    "canny(jnp.array(img))\n",
    "\n",
    "# TensorFlow\n",
    "import tensorflow as tf\n",
    "canny(tf.constant(img))"
   ],
   "metadata": {
    "collapsed": false
   }
  },
  {
   "cell_type": "markdown",
   "source": [
    "This new `canny` function is unified because it is implemented in Ivy. In the examples, above no framework has been explicitly set in Ivy's backend, and Ivy automatically determines the backend framework based on the function inputs. However, this doesn't work if the compiled function is purely generative and doesn't consume arrays at all (`ones`, `random_uniform`, `fill` etc.).\n",
    "\n",
    "In such cases, the backend framework would need to be set explicitly like so:"
   ],
   "metadata": {
    "collapsed": false
   }
  },
  {
   "cell_type": "code",
   "execution_count": null,
   "outputs": [],
   "source": [
    "ivy.set_backend(\"jax\")"
   ],
   "metadata": {
    "collapsed": false
   }
  },
  {
   "cell_type": "markdown",
   "source": [
    "In cases where the target framework is known ahead of time, then this should be set when Ivy is first imported."
   ],
   "metadata": {
    "collapsed": false
   }
  },
  {
   "cell_type": "markdown",
   "source": [
    "## Efficiency"
   ],
   "metadata": {
    "collapsed": false
   }
  },
  {
   "cell_type": "markdown",
   "source": [
    "In the examples above, the `canny` function is implemented in Ivy, and all of Ivy's wrapping overhead is included in the call stack which causes runtime overhead. To remove this overhead, the code should be compiled like so:"
   ],
   "metadata": {
    "collapsed": false
   }
  },
  {
   "cell_type": "code",
   "execution_count": null,
   "outputs": [],
   "source": [
    "canny = ivy.compile(canny)"
   ],
   "metadata": {
    "collapsed": false
   }
  },
  {
   "cell_type": "markdown",
   "source": [
    "The canny function will then be stripped down to its constituent functions in the target framework (with Ivy wrapping overhead), and it will also be compiled to machine-code if the target framework supports low-level compiling, for maximal efficiency."
   ],
   "metadata": {
    "collapsed": false
   }
  },
  {
   "cell_type": "markdown",
   "source": [
    "## One Target Framework"
   ],
   "metadata": {
    "collapsed": false
   }
  },
  {
   "cell_type": "markdown",
   "source": [
    "A common use case is that there is *one* target framework in mind. Let's assume that you need the `canny` function for a JAX project, and you want it to be efficient. The workflow would then be as follows:"
   ],
   "metadata": {
    "collapsed": false
   }
  },
  {
   "cell_type": "code",
   "execution_count": null,
   "outputs": [],
   "source": [
    "import ivy\n",
    "ivy.set_backend(\"jax\")\n",
    "\n",
    "canny = ivy.compile(ivy.unify(kornia.filters.canny))"
   ],
   "metadata": {
    "collapsed": false,
    "pycharm": {
     "is_executing": true
    }
   }
  },
  {
   "cell_type": "markdown",
   "source": [
    "`canny` is now compiled to machine-code, specifically for JAX, ready to be integrated into your wider JAX project."
   ],
   "metadata": {
    "collapsed": false
   }
  }
 ],
 "metadata": {
  "kernelspec": {
   "display_name": "Python 3",
   "language": "python",
   "name": "python3"
  },
  "language_info": {
   "codemirror_mode": {
    "name": "ipython",
    "version": 2
   },
   "file_extension": ".py",
   "mimetype": "text/x-python",
   "name": "python",
   "nbconvert_exporter": "python",
   "pygments_lexer": "ipython2",
   "version": "2.7.6"
  }
 },
 "nbformat": 4,
 "nbformat_minor": 0
}
