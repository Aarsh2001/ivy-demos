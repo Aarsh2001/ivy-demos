{
 "cells": [
  {
   "cell_type": "markdown",
   "source": [
    "# 2.0: Imported Functions"
   ],
   "metadata": {
    "collapsed": false
   }
  },
  {
   "cell_type": "markdown",
   "source": [
    "In this example, we unify a function from [Kornia](kornia_link), which is an awesome computer vision library written in PyTorch.\n",
    "\n",
    "Generally, it's simplest to use `ivy.unify`, `ivy.compile` and `ivy.transpile` as standalone functions when unifying externally imported functions, as shown in the examples below."
   ],
   "metadata": {
    "collapsed": false
   }
  },
  {
   "cell_type": "markdown",
   "source": [
    "## Unify"
   ],
   "metadata": {
    "collapsed": false
   }
  },
  {
   "cell_type": "markdown",
   "source": [
    "Firstly, let's import some dependencies"
   ],
   "metadata": {
    "collapsed": false
   }
  },
  {
   "cell_type": "code",
   "execution_count": null,
   "outputs": [],
   "source": [
    "import ivy\n",
    "import cv2\n",
    "import kornia\n",
    "import numpy as np"
   ],
   "metadata": {
    "collapsed": false
   }
  },
  {
   "cell_type": "markdown",
   "source": [
    "Now, let's unify the function!"
   ],
   "metadata": {
    "collapsed": false
   }
  },
  {
   "cell_type": "code",
   "execution_count": null,
   "outputs": [],
   "source": [
    "canny = ivy.unify(kornia.filters.canny)"
   ],
   "metadata": {
    "collapsed": false
   }
  },
  {
   "cell_type": "markdown",
   "source": [
    "And that's it! The `canny` function can now be used with any ML framework. It's as simple as that."
   ],
   "metadata": {
    "collapsed": false
   }
  },
  {
   "cell_type": "markdown",
   "source": [
    "So, let's give it a try!\n",
    "\n",
    "First, let's load an image into `numpy` using `cv2`"
   ],
   "metadata": {
    "collapsed": false
   }
  },
  {
   "cell_type": "code",
   "execution_count": null,
   "outputs": [],
   "source": [
    "img = cv2.imread('image.png')"
   ],
   "metadata": {
    "collapsed": false,
    "pycharm": {
     "is_executing": true
    }
   }
  },
  {
   "cell_type": "markdown",
   "source": [
    "Let's take a peak at the image:"
   ],
   "metadata": {
    "collapsed": false
   }
  },
  {
   "cell_type": "code",
   "execution_count": null,
   "outputs": [],
   "source": [
    "cv2.imshow(img)"
   ],
   "metadata": {
    "collapsed": false
   }
  },
  {
   "cell_type": "markdown",
   "source": [
    "Let's now convert into a normalized channel-first format with a unary batch dimension, which is the format Kornia expects."
   ],
   "metadata": {
    "collapsed": false
   }
  },
  {
   "cell_type": "code",
   "execution_count": null,
   "outputs": [],
   "source": [
    "img = np.expand_dims(np.transpose(img/255, (2, 0, 1)), 0)"
   ],
   "metadata": {
    "collapsed": false
   }
  },
  {
   "cell_type": "markdown",
   "source": [
    "Now, let's try out our new unified `canny` function with various ML frameworks!"
   ],
   "metadata": {
    "collapsed": false
   }
  },
  {
   "cell_type": "code",
   "execution_count": null,
   "outputs": [],
   "source": [
    "# NumPy\n",
    "edges = canny(img)\n",
    "cv2.imshow(edges)\n",
    "\n",
    "# JAX\n",
    "import jax.numpy as jnp\n",
    "edges = canny(jnp.array(img))\n",
    "cv2.imshow(edges)\n",
    "\n",
    "# TensorFlow\n",
    "import tensorflow as tf\n",
    "edges = canny(tf.constant(img))\n",
    "cv2.imshow(edges)\n",
    "\n",
    "# PyTorch\n",
    "import torch\n",
    "edges = canny(torch.tensor(img))\n",
    "cv2.imshow(edges)"
   ],
   "metadata": {
    "collapsed": false
   }
  },
  {
   "cell_type": "markdown",
   "source": [
    "This new `canny` function can now operate with any ML framework. This is because `ivy.unify` converts the framework-specific PyTorch implementation into a framework-agnostic `ivy` implementation, which is compatible with all frameworks.\n",
    "\n",
    "In the examples above, no framework has been explicitly set in `ivy`'s backend, and `ivy` automatically determines the correct backend framework to use based on the function inputs, see the [Framework Selection]() notebook for more details."
   ],
   "metadata": {
    "collapsed": false
   }
  },
  {
   "cell_type": "markdown",
   "source": [
    "## Compile"
   ],
   "metadata": {
    "collapsed": false
   }
  },
  {
   "cell_type": "markdown",
   "source": [
    "The function can then be compiled like so, leading to much improved runtime performance. See the [Compile]() notebook for more details. We compile to a `tensorflow` backend here as an example."
   ],
   "metadata": {
    "collapsed": false
   }
  },
  {
   "cell_type": "code",
   "execution_count": null,
   "outputs": [],
   "source": [
    "img_tf = tf.constant(img)\n",
    "canny = ivy.compile(canny, args=(img_tf,))"
   ],
   "metadata": {
    "collapsed": false
   }
  },
  {
   "cell_type": "markdown",
   "source": [
    "we can verify that the output is the same as before:"
   ],
   "metadata": {
    "collapsed": false
   }
  },
  {
   "cell_type": "code",
   "execution_count": null,
   "outputs": [],
   "source": [
    "cv2.imshow(canny(img_tf))"
   ],
   "metadata": {
    "collapsed": false
   }
  },
  {
   "cell_type": "markdown",
   "source": [
    "## Transpile"
   ],
   "metadata": {
    "collapsed": false
   }
  },
  {
   "cell_type": "markdown",
   "source": [
    "Alternatively, the function can be transpiled like so, bypassing the need to call `ivy.unify` and `ivy.compile` separately. See the [Transpile]() notebook for more details. We transpile to `jax` here as an example."
   ],
   "metadata": {
    "collapsed": false
   }
  },
  {
   "cell_type": "code",
   "execution_count": null,
   "outputs": [],
   "source": [
    "img_jnp = jnp.array(img)\n",
    "canny = ivy.transpile(kornia.filters.canny, args=(img_jnp,))"
   ],
   "metadata": {
    "collapsed": false
   }
  },
  {
   "cell_type": "markdown",
   "source": [
    "Again, we can verify that the output is the same as before:"
   ],
   "metadata": {
    "collapsed": false
   }
  },
  {
   "cell_type": "code",
   "execution_count": null,
   "outputs": [],
   "source": [
    "cv2.imshow(canny(img_jnp))"
   ],
   "metadata": {
    "collapsed": false
   }
  },
  {
   "cell_type": "markdown",
   "source": [
    "## Round Up"
   ],
   "metadata": {
    "collapsed": false
   }
  },
  {
   "cell_type": "markdown",
   "source": [
    "That's it! You're now ready to start unifying ML functions like a pro, a small but important step on your journey towards ML unification! [arm_emoji]"
   ],
   "metadata": {
    "collapsed": false
   }
  }
 ],
 "metadata": {
  "kernelspec": {
   "display_name": "Python 3",
   "language": "python",
   "name": "python3"
  },
  "language_info": {
   "codemirror_mode": {
    "name": "ipython",
    "version": 2
   },
   "file_extension": ".py",
   "mimetype": "text/x-python",
   "name": "python",
   "nbconvert_exporter": "python",
   "pygments_lexer": "ipython2",
   "version": "2.7.6"
  }
 },
 "nbformat": 4,
 "nbformat_minor": 0
}
