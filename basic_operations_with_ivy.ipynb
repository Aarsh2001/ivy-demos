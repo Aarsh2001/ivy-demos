{
  "nbformat": 4,
  "nbformat_minor": 0,
  "metadata": {
    "colab": {
      "provenance": [],
      "toc_visible": true
    },
    "kernelspec": {
      "name": "python3",
      "display_name": "Python 3"
    },
    "language_info": {
      "name": "python"
    }
  },
  "cells": [
    {
      "cell_type": "markdown",
      "source": [
        "# Installs 💾"
      ],
      "metadata": {
        "id": "jwEdXSBcXCGy"
      }
    },
    {
      "cell_type": "code",
      "execution_count": null,
      "metadata": {
        "id": "GQ18Kd5F3uKe"
      },
      "outputs": [],
      "source": [
        "!pip install ivy-core\n",
        "!pip install torch\n",
        "!pip install tensorflow\n",
        "!pip install jax\n",
        "!pip install dm-haiku\n",
        "!pip install numpy"
      ]
    },
    {
      "cell_type": "markdown",
      "source": [
        "# Imports 🛃"
      ],
      "metadata": {
        "id": "sekVdg-DW537"
      }
    },
    {
      "cell_type": "code",
      "execution_count": 2,
      "metadata": {
        "id": "6A4cYE9wSV2X"
      },
      "outputs": [],
      "source": [
        "import ivy"
      ]
    },
    {
      "cell_type": "markdown",
      "source": [
        "# Ivy as a Unified ML Framework 🔀"
      ],
      "metadata": {
        "id": "GnltH92YDz3h"
      }
    },
    {
      "cell_type": "markdown",
      "source": [
        "Ivy is a unified machine learning framework that aims to provide a single interface for working with various machine learning libraries, such as Numpy, TensorFlow, PyTorch, and Jax. With Ivy, you can use the same code to build and train machine learning models, regardless of the underlying library being used. All you have to do is to change one line of code 😉"
      ],
      "metadata": {
        "id": "Ylfk5mPUD5yZ"
      }
    },
    {
      "cell_type": "markdown",
      "source": [
        "## Change frameworks by one line of code ☝"
      ],
      "metadata": {
        "id": "NTIpyQgJEKK9"
      }
    },
    {
      "cell_type": "markdown",
      "source": [
        "With Ivy, you can define your data and operations just once and easily switch between different frameworks. To do this, simply write your operations in Ivy and use the `ivy.set_framework()` function to change the underlying framework.\n",
        "\n",
        "P.S. there are some more advanced ways of handling backend frameworks in Ivy, so check it out in our [Deep Dive](https://lets-unify.ai/ivy/deep_dive/backend_setting.html)."
      ],
      "metadata": {
        "id": "-IEcpaumIBEh"
      }
    },
    {
      "cell_type": "markdown",
      "source": [
        "### No need to worry about data types 🎨"
      ],
      "metadata": {
        "id": "sCzvaftsG8lc"
      }
    },
    {
      "cell_type": "markdown",
      "source": [
        "Firstly, let's set the backend to Tensorflow"
      ],
      "metadata": {
        "id": "u7pGFgOiF127"
      }
    },
    {
      "cell_type": "code",
      "source": [
        "ivy.set_framework('tensorflow')"
      ],
      "metadata": {
        "id": "El_nUM__D2Ag"
      },
      "execution_count": 3,
      "outputs": []
    },
    {
      "cell_type": "code",
      "source": [
        "x = ivy.array([1, 2, 3])\n",
        "y = ivy.array([4, 5, 6])\n",
        "print((type(ivy.to_native(x))))\n",
        "print(ivy.stack((x, y)))"
      ],
      "metadata": {
        "colab": {
          "base_uri": "https://localhost:8080/"
        },
        "id": "A9szEYZqH3C-",
        "outputId": "e132a0ff-454d-4e4d-bfe8-1619d2bc5fbf"
      },
      "execution_count": 4,
      "outputs": [
        {
          "output_type": "stream",
          "name": "stdout",
          "text": [
            "<class 'tensorflow.python.framework.ops.EagerTensor'>\n",
            "tf.Tensor(\n",
            "[[1 2 3]\n",
            " [4 5 6]], shape=(2, 3), dtype=int32)\n"
          ]
        }
      ]
    },
    {
      "cell_type": "markdown",
      "source": [
        "Now let's try exactly the same code, but change the used backend framework to Pytorch."
      ],
      "metadata": {
        "id": "RlJJ9T0WVa5-"
      }
    },
    {
      "cell_type": "code",
      "source": [
        "ivy.set_framework('torch')"
      ],
      "metadata": {
        "id": "K-p7iquzEVpu"
      },
      "execution_count": 5,
      "outputs": []
    },
    {
      "cell_type": "code",
      "source": [
        "x = ivy.array([1, 2, 3])\n",
        "y = ivy.array([4, 5, 6])\n",
        "print((type(ivy.to_native(x))))\n",
        "print(ivy.stack((x, y)))"
      ],
      "metadata": {
        "colab": {
          "base_uri": "https://localhost:8080/"
        },
        "id": "yNLIuLTuH5Fs",
        "outputId": "a150545b-beaa-4ee5-cdd6-4157e37a3e9b"
      },
      "execution_count": 6,
      "outputs": [
        {
          "output_type": "stream",
          "name": "stdout",
          "text": [
            "<class 'torch.Tensor'>\n",
            "tensor([[1, 2, 3],\n",
            "        [4, 5, 6]])\n"
          ]
        }
      ]
    },
    {
      "cell_type": "markdown",
      "source": [
        "You can see that defined Ivy arrays have either tf.Tensor or torch.Tensor types underneath it without any need to worry about their types."
      ],
      "metadata": {
        "id": "UKYT7C95GAel"
      }
    },
    {
      "cell_type": "markdown",
      "source": [
        "### No need to worry about framework differences 💱"
      ],
      "metadata": {
        "id": "6RbFMeUEHlpk"
      }
    },
    {
      "cell_type": "markdown",
      "source": [
        "By saying that framework can be changed by just one line of code, we really mean it 🙂! By using Ivy as an ML framework, you do not need to worry about different function namings in different frameworks.\n",
        "\n",
        "Take a clip by value operator as an example. It performs the same operation across frameworks, but has different name and argument names.\n",
        "Numpy:\n",
        "```\n",
        "np.clip(a, a_min, a_max, out=None)\n",
        "```\n",
        "Tensforflow:\n",
        "```\n",
        "tf.clip_by_value(t, clip_value_min, clip_value_max, name=None)\n",
        "```\n",
        "Pytorch:\n",
        "```\n",
        "torch.clamp(input, min=None, max=None, *, out=None)\n",
        "```\n",
        "Jax:\n",
        "```\n",
        "jax.numpy.clip(a, a_min=None, a_max=None, out=None)\n",
        "```"
      ],
      "metadata": {
        "id": "a-2Q-B31Ki3J"
      }
    },
    {
      "cell_type": "markdown",
      "source": [
        "Here are some examples"
      ],
      "metadata": {
        "id": "YH__ljNOMW-K"
      }
    },
    {
      "cell_type": "code",
      "source": [
        "import tensorflow as tf\n",
        "t = tf.constant([[-10., -1., 0.], [0., 2., 10.]])\n",
        "print(tf.clip_by_value(t, clip_value_min=-1, clip_value_max=1))\n",
        "\n",
        "import numpy as np\n",
        "n = np.array([[-10., -1., 0.], [0., 2., 10.]])\n",
        "print(np.clip(n, a_min=-1, a_max=1))"
      ],
      "metadata": {
        "id": "7VwJqENZNY73"
      },
      "execution_count": null,
      "outputs": []
    },
    {
      "cell_type": "markdown",
      "source": [
        "Ivy allows you not to worry about such things. Now let's do the same solely in Ivy."
      ],
      "metadata": {
        "id": "zBO1hLbJOExx"
      }
    },
    {
      "cell_type": "code",
      "source": [
        "ivy.set_framework('numpy')\n",
        "i = ivy.array([[-10., -1., 0.], [0., 2., 10.]])\n",
        "ivy.clip(i, -1, 1)"
      ],
      "metadata": {
        "id": "nQp5ZoX5N1Ut"
      },
      "execution_count": null,
      "outputs": []
    },
    {
      "cell_type": "code",
      "source": [
        "ivy.set_framework('torch')\n",
        "i = ivy.array([[-10., -1., 0.], [0., 2., 10.]])\n",
        "ivy.clip(i, -1, 1)"
      ],
      "metadata": {
        "id": "P0q5urHVN_8S"
      },
      "execution_count": null,
      "outputs": []
    },
    {
      "cell_type": "code",
      "source": [
        "ivy.set_framework('tensorflow')\n",
        "i = ivy.array([[-10., -1., 0.], [0., 2., 10.]])\n",
        "ivy.clip(i, -1, 1)"
      ],
      "metadata": {
        "id": "VsAIGbAPOA8s"
      },
      "execution_count": null,
      "outputs": []
    },
    {
      "cell_type": "code",
      "source": [
        "ivy.set_framework('jax')\n",
        "i = ivy.array([[-10., -1., 0.], [0., 2., 10.]])\n",
        "ivy.clip(i, -1, 1)"
      ],
      "metadata": {
        "id": "igPjvrWzJzfO"
      },
      "execution_count": 11,
      "outputs": []
    },
    {
      "cell_type": "markdown",
      "source": [
        "As you see, the only line that changed here is `ivy.set_framework()`."
      ],
      "metadata": {
        "id": "Lzms1CtcOcRH"
      }
    },
    {
      "cell_type": "markdown",
      "source": [
        "### Unifying them all! 🍲"
      ],
      "metadata": {
        "id": "BhzPEccDUVyA"
      }
    },
    {
      "cell_type": "markdown",
      "source": [
        "Finally, functions defined in Ivy are framework agnostic.\n",
        "In the example below we show how Ivy's concatenation function is compatible with tensors from different frameworks. This is the same for all Ivy functions. They can accept tensors from any framework and return the correct result."
      ],
      "metadata": {
        "id": "48au6HsNVE6n"
      }
    },
    {
      "cell_type": "code",
      "source": [
        "import jax.numpy as jnp\n",
        "import tensorflow as tf\n",
        "import numpy as np\n",
        "import torch\n",
        "\n",
        "import ivy\n",
        "\n",
        "jax_concatted   = ivy.concat((jnp.ones((1,)), jnp.ones((1,))), -1)\n",
        "tf_concatted    = ivy.concat((tf.ones((1,)), tf.ones((1,))), -1)\n",
        "np_concatted    = ivy.concat((np.ones((1,)), np.ones((1,))), -1)\n",
        "torch_concatted = ivy.concat((torch.ones((1,)), torch.ones((1,))), -1)"
      ],
      "metadata": {
        "id": "QvXeZfEYDIDY"
      },
      "execution_count": null,
      "outputs": []
    },
    {
      "cell_type": "markdown",
      "source": [
        "We hope that this short demo gives you a better understanding of basic Ivy functionality and got your interest in learning more about Ivy!"
      ],
      "metadata": {
        "id": "2WFF04TNu7jT"
      }
    }
  ]
}